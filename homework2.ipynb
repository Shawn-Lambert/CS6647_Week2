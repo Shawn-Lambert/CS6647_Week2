{
 "cells": [
  {
   "cell_type": "markdown",
   "metadata": {
    "id": "nF0Ps19ADEAg"
   },
   "source": [
    "\n",
    "1. Use for loop to generate 3 random integers between 100 and 999 which is divisible by 5. \n",
    "\n"
   ]
  },
  {
   "cell_type": "code",
   "execution_count": 1,
   "metadata": {
    "colab": {
     "base_uri": "https://localhost:8080/"
    },
    "executionInfo": {
     "elapsed": 133,
     "status": "ok",
     "timestamp": 1648925253159,
     "user": {
      "displayName": "Xiaoli Huan",
      "userId": "12700089891795799701"
     },
     "user_tz": 300
    },
    "id": "TioIKiMBDPGR",
    "outputId": "be145924-866c-471b-f990-eae694b57483"
   },
   "outputs": [
    {
     "name": "stdout",
     "output_type": "stream",
     "text": [
      "Generating 3 random integer number between 100 and 999 divisible by 5\n",
      "145, 600, 580, "
     ]
    }
   ],
   "source": [
    "import random\n",
    "\n",
    "print(\"Generating 3 random integer number between 100 and 999 divisible by 5\")\n",
    "for num in range(3):\n",
    "    print(random.randrange(100, 999, 5), end=', ')"
   ]
  },
  {
   "cell_type": "markdown",
   "metadata": {
    "id": "hyXLw2juDQBR"
   },
   "source": [
    "2.The Logistic distribution is used in Extreme Value problems where it can act as a mixture of Gumbel distributions. Draw samples from a logistic distribution and plot it. loc=10, scale=1 and size =1000. "
   ]
  },
  {
   "cell_type": "code",
   "execution_count": 2,
   "metadata": {
    "colab": {
     "base_uri": "https://localhost:8080/",
     "height": 267
    },
    "executionInfo": {
     "elapsed": 510,
     "status": "ok",
     "timestamp": 1648925253822,
     "user": {
      "displayName": "Xiaoli Huan",
      "userId": "12700089891795799701"
     },
     "user_tz": 300
    },
    "id": "t2yhyP6RDXMI",
    "outputId": "2b8b2194-1abe-4d3b-fdb7-d18c91ec2e3a"
   },
   "outputs": [
    {
     "data": {
      "image/png": "[encoded data removed]",
      "text/plain": [
       "<Figure size 432x288 with 1 Axes>"
      ]
     },
     "metadata": {
      "needs_background": "light"
     },
     "output_type": "display_data"
    }
   ],
   "source": [
    "import numpy as np\n",
    "\n",
    "loc, scale = 10, 1\n",
    "s = np.random.default_rng().logistic(loc, scale, 1000)\n",
    "import matplotlib.pyplot as plt\n",
    "count, bins, ignored = plt.hist(s, bins=50)\n",
    "def logist(x, loc, scale):\n",
    "    return np.exp((loc-x)/scale)/(scale*(1+np.exp((loc-x)/scale))**2)\n",
    "lgst_val = logist(bins, loc, scale)\n",
    "plt.plot(bins, lgst_val * count.max() / lgst_val.max())\n",
    "plt.show()"
   ]
  },
  {
   "cell_type": "markdown",
   "metadata": {
    "id": "0jAtQnvcFn1g"
   },
   "source": [
    "3.\tGenerate 6 digit random secure OTP."
   ]
  },
  {
   "cell_type": "code",
   "execution_count": 3,
   "metadata": {
    "colab": {
     "base_uri": "https://localhost:8080/"
    },
    "executionInfo": {
     "elapsed": 28,
     "status": "ok",
     "timestamp": 1648925253823,
     "user": {
      "displayName": "Xiaoli Huan",
      "userId": "12700089891795799701"
     },
     "user_tz": 300
    },
    "id": "8pnAxvQyGLN7",
    "outputId": "d981f4f4-5bfa-4955-aae6-f92d3aace4d4"
   },
   "outputs": [
    {
     "name": "stdout",
     "output_type": "stream",
     "text": [
      "Generating 6 digit random OTP\n",
      "Secure random OTP is: 214279\n"
     ]
    }
   ],
   "source": [
    "import random\n",
    "\n",
    "otp = random.randint(100000, 999999);\n",
    "\n",
    "print(\"Generating 6 digit random OTP\") \n",
    "print(\"Secure random OTP is:\", otp)"
   ]
  },
  {
   "cell_type": "markdown",
   "metadata": {
    "id": "sRajmF4JGc9C"
   },
   "source": [
    "4.\tPick a random character from a given string such as \"Simulation and modeling\""
   ]
  },
  {
   "cell_type": "code",
   "execution_count": 4,
   "metadata": {
    "colab": {
     "base_uri": "https://localhost:8080/"
    },
    "executionInfo": {
     "elapsed": 24,
     "status": "ok",
     "timestamp": 1648925253824,
     "user": {
      "displayName": "Xiaoli Huan",
      "userId": "12700089891795799701"
     },
     "user_tz": 300
    },
    "id": "7dquFCrHGeGx",
    "outputId": "1820adae-3495-4c44-81c0-2973e40efe55"
   },
   "outputs": [
    {
     "name": "stdout",
     "output_type": "stream",
     "text": [
      "random char is  g\n"
     ]
    }
   ],
   "source": [
    "import random\n",
    "\n",
    "string = \"Simulation and modeling\"\n",
    "array = []\n",
    "for c in string:\n",
    "  array += [c]\n",
    " \n",
    "print(\"random char is \", array[random.randint(0, len(array)-1)])"
   ]
  },
  {
   "cell_type": "markdown",
   "metadata": {
    "id": "LWo72SxJGxOd"
   },
   "source": [
    "5. Import string and random module. Generate a string with 5 characters with UPPER case and lower case letters only. No numbers and a special symbol."
   ]
  },
  {
   "cell_type": "code",
   "execution_count": 5,
   "metadata": {
    "colab": {
     "base_uri": "https://localhost:8080/"
    },
    "executionInfo": {
     "elapsed": 20,
     "status": "ok",
     "timestamp": 1648925253825,
     "user": {
      "displayName": "Xiaoli Huan",
      "userId": "12700089891795799701"
     },
     "user_tz": 300
    },
    "id": "rf1xMCM8HPhw",
    "outputId": "3e8deea6-c924-404b-ab85-ceb8299f91fe"
   },
   "outputs": [
    {
     "name": "stdout",
     "output_type": "stream",
     "text": [
      "Random String is  UINHu\n"
     ]
    }
   ],
   "source": [
    "import string\n",
    "import random\n",
    "\n",
    "def string_generator(size=5, chars=string.ascii_letters):\n",
    "    return ''.join(random.choice(chars) for _ in range(size))\n",
    "\n",
    "print(\"Random String is \", string_generator())"
   ]
  },
  {
   "cell_type": "markdown",
   "metadata": {
    "id": "7yXtRN6WHYiu"
   },
   "source": [
    "6. Import string and random module. Generate a Password with length 10 which contains 2 upper case letters, 1 digit, and 1 special symbol. "
   ]
  },
  {
   "cell_type": "code",
   "execution_count": 6,
   "metadata": {
    "colab": {
     "base_uri": "https://localhost:8080/"
    },
    "executionInfo": {
     "elapsed": 18,
     "status": "ok",
     "timestamp": 1648925253826,
     "user": {
      "displayName": "Xiaoli Huan",
      "userId": "12700089891795799701"
     },
     "user_tz": 300
    },
    "id": "-3L50bqjHsKO",
    "outputId": "ace6e789-3855-492d-9c38-c57f7385a64f"
   },
   "outputs": [
    {
     "name": "stdout",
     "output_type": "stream",
     "text": [
      "Password is  c7*upYoUfw\n"
     ]
    }
   ],
   "source": [
    "import random\n",
    "import string\n",
    "\n",
    "password = \"\"\n",
    "\n",
    "for i in range(6):\n",
    "    password = password + random.choice(string.ascii_lowercase)\n",
    "for i in range(2):\n",
    "    password = password + random.choice(string.ascii_uppercase)\n",
    "for i in range(1):\n",
    "    password = password + random.choice(string.punctuation)\n",
    "for i in range(1):\n",
    "    password = password + random.choice(string.digits)\n",
    "    \n",
    "password = ''.join(random.sample(password, 10))\n",
    "\n",
    "print(\"Password is \", password)"
   ]
  },
  {
   "cell_type": "markdown",
   "metadata": {
    "id": "b5m0Kv-aIONE"
   },
   "source": [
    "7. First generate evenly spaced values within 0 to 9. Give it new shape 3x3. Then randomly permute it."
   ]
  },
  {
   "cell_type": "code",
   "execution_count": 7,
   "metadata": {
    "colab": {
     "base_uri": "https://localhost:8080/"
    },
    "executionInfo": {
     "elapsed": 16,
     "status": "ok",
     "timestamp": 1648925253827,
     "user": {
      "displayName": "Xiaoli Huan",
      "userId": "12700089891795799701"
     },
     "user_tz": 300
    },
    "id": "lA-_-8aNIYWZ",
    "outputId": "bb6e8298-8608-4077-cd06-9c9d6709c6b2"
   },
   "outputs": [
    {
     "data": {
      "text/plain": [
       "array([[3, 4, 5],\n",
       "       [0, 1, 2],\n",
       "       [6, 7, 8]])"
      ]
     },
     "execution_count": 7,
     "metadata": {},
     "output_type": "execute_result"
    }
   ],
   "source": [
    "import numpy as np\n",
    "import random\n",
    "\n",
    "matrix = np.arange(9).reshape((3, 3))\n",
    "np.random.permutation(matrix)"
   ]
  },
  {
   "cell_type": "markdown",
   "metadata": {
    "id": "A_qKoz0cJs56"
   },
   "source": [
    "8. Generate random secure token of 64 bytes and random URL"
   ]
  },
  {
   "cell_type": "code",
   "execution_count": 8,
   "metadata": {
    "colab": {
     "base_uri": "https://localhost:8080/"
    },
    "executionInfo": {
     "elapsed": 25,
     "status": "ok",
     "timestamp": 1648925253999,
     "user": {
      "displayName": "Xiaoli Huan",
      "userId": "12700089891795799701"
     },
     "user_tz": 300
    },
    "id": "i5Yl9imaKULT",
    "outputId": "bffd0637-e5b0-4a8f-f3ed-c2c291077d2c"
   },
   "outputs": [
    {
     "name": "stdout",
     "output_type": "stream",
     "text": [
      "Random secure Hexadecimal token is  4b6272b273eaa7a1d5a519848c88db27735cdc772f5f0b71d51afef9c31d64dd320eb4148ebf897a1c844458a4efc5ec10e764ab5cd5b5fdc82c903036a37cf1\n",
      "Random secure URL is  bJxk7cV7oicX6iZXSXNYPzPIvGKTnOHY6_dQadjb858vMoOyRR3OWT7R_3VlKHI1Yx5_0ucNFOi0waJR3KzTKQ\n"
     ]
    }
   ],
   "source": [
    "import secrets\n",
    "\n",
    "HexToken = secrets.token_hex(64)\n",
    "URL = secrets.token_urlsafe(64)\n",
    "\n",
    "print(\"Random secure Hexadecimal token is \", HexToken); \n",
    "print(\"Random secure URL is \", URL);"
   ]
  },
  {
   "cell_type": "markdown",
   "metadata": {
    "id": "BbqxqvkAKoco"
   },
   "source": [
    "9. Pick a random number from 1 to 6. Do it in such a way that every time you must get the same random output number(no hard coding numbers). do this 5 times."
   ]
  },
  {
   "cell_type": "code",
   "execution_count": 9,
   "metadata": {
    "colab": {
     "base_uri": "https://localhost:8080/"
    },
    "executionInfo": {
     "elapsed": 13,
     "status": "ok",
     "timestamp": 1648925253999,
     "user": {
      "displayName": "Xiaoli Huan",
      "userId": "12700089891795799701"
     },
     "user_tz": 300
    },
    "id": "GLkxztDWK0ZE",
    "outputId": "4f2287a0-8078-4dc0-e901-90bb7575ccc0"
   },
   "outputs": [
    {
     "name": "stdout",
     "output_type": "stream",
     "text": [
      "Randomly selecting same number of a dice\n",
      "1\n",
      "1\n",
      "1\n",
      "1\n",
      "1\n"
     ]
    }
   ],
   "source": [
    "import random\n",
    "\n",
    "RandomNumber = random.randint(1, 6)\n",
    "number = RandomNumber\n",
    "printOut = 0\n",
    "print(\"Randomly selecting same number of a dice\")\n",
    "\n",
    "while printOut < 5:\n",
    "    print(number)\n",
    "    printOut = printOut + 1"
   ]
  },
  {
   "cell_type": "markdown",
   "metadata": {
    "id": "nKU3_whrK193"
   },
   "source": [
    "10. Write an interactive Python program to play a “guess the  number” game. The computer should think of a random integer between  1 and 20 and the user (player) has to try to guess the number within six  attempts. The program should let the player know if the guess is too high or  too low. \n"
   ]
  },
  {
   "cell_type": "code",
   "execution_count": 10,
   "metadata": {
    "colab": {
     "base_uri": "https://localhost:8080/"
    },
    "executionInfo": {
     "elapsed": 26479,
     "status": "ok",
     "timestamp": 1648925280468,
     "user": {
      "displayName": "Xiaoli Huan",
      "userId": "12700089891795799701"
     },
     "user_tz": 300
    },
    "id": "ZcGQDFpSNX6r",
    "outputId": "1d12aaa1-10ee-4214-92b6-c2128490c39b"
   },
   "outputs": [
    {
     "name": "stdout",
     "output_type": "stream",
     "text": [
      "Hi! What is your name? Shawn\n",
      "Welcome, Shawn! I am thinking of an integer between 1 and 20.\n",
      "Take a guess and type the integer? 10\n",
      "Your guess is too low.\n",
      "Take a guess and type the integer? 15\n",
      "Well done Shawn! You guessed my number in  2  guesses!\n"
     ]
    }
   ],
   "source": [
    "import random\n",
    "\n",
    "name = input(\"Hi! What is your name? \")\n",
    "number = random.randint(1, 20)\n",
    "print(\"Welcome, \" + name + \"! I am thinking of an integer between 1 and 20.\")\n",
    "guessesTaken = 0\n",
    "\n",
    "while guessesTaken < 6:\n",
    "    guess = input(\"Take a guess and type the integer? \")\n",
    "    guess = int(guess)\n",
    "    guessesTaken = guessesTaken + 1\n",
    "    if guess < number:\n",
    "        print(\"Your guess is too low.\")\n",
    "    elif guess > number:\n",
    "        print(\"Your guess is too high.\")\n",
    "    else:\n",
    "        break\n",
    "if guess == number:\n",
    "    print(\"Well done \" + name + \"! You guessed my number in \", guessesTaken, \" guesses!\")\n",
    "else:\n",
    "    print(\"Sorry \" + name + \". You took more than 6 guesses. The integer I was thinking of was \", number)"
   ]
  },
  {
   "cell_type": "code",
   "execution_count": null,
   "metadata": {},
   "outputs": [],
   "source": []
  }
 ],
 "metadata": {
  "colab": {
   "collapsed_sections": [],
   "name": "homework2_solution.ipynb",
   "provenance": []
  },
  "interpreter": {
   "hash": "c98e05168fa63a48dbdd2a4274fef77cd63f6368d59e4488c10e2ff7243bb6c6"
  },
  "kernelspec": {
   "display_name": "Python 3 (ipykernel)",
   "language": "python",
   "name": "python3"
  },
  "language_info": {
   "codemirror_mode": {
    "name": "ipython",
    "version": 3
   },
   "file_extension": ".py",
   "mimetype": "text/x-python",
   "name": "python",
   "nbconvert_exporter": "python",
   "pygments_lexer": "ipython3",
   "version": "3.9.7"
  }
 },
 "nbformat": 4,
 "nbformat_minor": 1
}
